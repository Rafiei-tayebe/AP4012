{
 "cells": [
  {
   "cell_type": "code",
   "execution_count": 1,
   "id": "1ec7377a",
   "metadata": {},
   "outputs": [
    {
     "name": "stdout",
     "output_type": "stream",
     "text": [
      "True\n"
     ]
    }
   ],
   "source": [
    "# python\n",
    "a = [1, 2, 3]\n",
    "b = a\n",
    "\n",
    "a.append(4)\n",
    "\n",
    "print(a==b)"
   ]
  },
  {
   "cell_type": "code",
   "execution_count": 2,
   "id": "49b01053",
   "metadata": {},
   "outputs": [
    {
     "data": {
      "text/plain": [
       "2134791742464"
      ]
     },
     "execution_count": 2,
     "metadata": {},
     "output_type": "execute_result"
    }
   ],
   "source": [
    "id(a)"
   ]
  },
  {
   "cell_type": "code",
   "execution_count": 3,
   "id": "b519f9db",
   "metadata": {},
   "outputs": [
    {
     "data": {
      "text/plain": [
       "2134791742464"
      ]
     },
     "execution_count": 3,
     "metadata": {},
     "output_type": "execute_result"
    }
   ],
   "source": [
    "id(b)"
   ]
  },
  {
   "cell_type": "code",
   "execution_count": 4,
   "id": "8c233352",
   "metadata": {},
   "outputs": [
    {
     "name": "stdout",
     "output_type": "stream",
     "text": [
      "False\n"
     ]
    }
   ],
   "source": [
    "a = 1\n",
    "b = a\n",
    "\n",
    "a += 1\n",
    "print(a==b)"
   ]
  },
  {
   "cell_type": "code",
   "execution_count": 5,
   "id": "0cd528b3",
   "metadata": {},
   "outputs": [
    {
     "data": {
      "text/plain": [
       "2134707863824"
      ]
     },
     "execution_count": 5,
     "metadata": {},
     "output_type": "execute_result"
    }
   ],
   "source": [
    "id(a)"
   ]
  },
  {
   "cell_type": "code",
   "execution_count": 6,
   "id": "4d29b127",
   "metadata": {},
   "outputs": [
    {
     "data": {
      "text/plain": [
       "2134707863792"
      ]
     },
     "execution_count": 6,
     "metadata": {},
     "output_type": "execute_result"
    }
   ],
   "source": [
    "id(b)"
   ]
  },
  {
   "cell_type": "code",
   "execution_count": 7,
   "id": "606fb838",
   "metadata": {},
   "outputs": [
    {
     "name": "stdout",
     "output_type": "stream",
     "text": [
      "False\n"
     ]
    }
   ],
   "source": [
    "a = [1, 2, 3]\n",
    "b = a\n",
    "\n",
    "a = a + [4] # a.append(4)\n",
    "\n",
    "print(a==b)"
   ]
  },
  {
   "cell_type": "code",
   "execution_count": 8,
   "id": "c6dbef3a",
   "metadata": {},
   "outputs": [
    {
     "data": {
      "text/plain": [
       "[1, 2, 3, 4]"
      ]
     },
     "execution_count": 8,
     "metadata": {},
     "output_type": "execute_result"
    }
   ],
   "source": [
    "a"
   ]
  },
  {
   "cell_type": "code",
   "execution_count": 9,
   "id": "f8b66743",
   "metadata": {},
   "outputs": [
    {
     "data": {
      "text/plain": [
       "[1, 2, 3]"
      ]
     },
     "execution_count": 9,
     "metadata": {},
     "output_type": "execute_result"
    }
   ],
   "source": [
    "b"
   ]
  },
  {
   "cell_type": "code",
   "execution_count": 10,
   "id": "254e4c12",
   "metadata": {},
   "outputs": [
    {
     "data": {
      "text/plain": [
       "2134791742208"
      ]
     },
     "execution_count": 10,
     "metadata": {},
     "output_type": "execute_result"
    }
   ],
   "source": [
    "id(a)"
   ]
  },
  {
   "cell_type": "code",
   "execution_count": 11,
   "id": "a315dc6d",
   "metadata": {},
   "outputs": [
    {
     "data": {
      "text/plain": [
       "2134791743104"
      ]
     },
     "execution_count": 11,
     "metadata": {},
     "output_type": "execute_result"
    }
   ],
   "source": [
    "id(b)"
   ]
  },
  {
   "cell_type": "code",
   "execution_count": 12,
   "id": "7465cff4",
   "metadata": {},
   "outputs": [
    {
     "name": "stdout",
     "output_type": "stream",
     "text": [
      "True\n"
     ]
    }
   ],
   "source": [
    "a = [1, 2, 3]\n",
    "b = a\n",
    "\n",
    "a += [4] # a + [4] # a.append(4)\n",
    "\n",
    "print(a==b)"
   ]
  },
  {
   "cell_type": "code",
   "execution_count": 13,
   "id": "f79b119d",
   "metadata": {},
   "outputs": [
    {
     "name": "stdout",
     "output_type": "stream",
     "text": [
      "None\n"
     ]
    }
   ],
   "source": [
    "print(a.append(5))"
   ]
  },
  {
   "cell_type": "code",
   "execution_count": 14,
   "id": "fa446ed3",
   "metadata": {},
   "outputs": [
    {
     "data": {
      "text/plain": [
       "2134786453440"
      ]
     },
     "execution_count": 14,
     "metadata": {},
     "output_type": "execute_result"
    }
   ],
   "source": [
    "id(a)"
   ]
  },
  {
   "cell_type": "code",
   "execution_count": 15,
   "id": "53b77919",
   "metadata": {},
   "outputs": [],
   "source": [
    "c = a + [0]"
   ]
  },
  {
   "cell_type": "code",
   "execution_count": 16,
   "id": "892b1c4d",
   "metadata": {},
   "outputs": [
    {
     "data": {
      "text/plain": [
       "2134791681472"
      ]
     },
     "execution_count": 16,
     "metadata": {},
     "output_type": "execute_result"
    }
   ],
   "source": [
    "id(c)"
   ]
  },
  {
   "cell_type": "code",
   "execution_count": 17,
   "id": "1fca043f",
   "metadata": {},
   "outputs": [],
   "source": [
    "b = [1,2,3]\n",
    "a = b.copy()"
   ]
  },
  {
   "cell_type": "code",
   "execution_count": 18,
   "id": "b59fe8d7",
   "metadata": {},
   "outputs": [],
   "source": [
    "c = []\n",
    "for member in b:\n",
    "    c.append(member)"
   ]
  },
  {
   "cell_type": "code",
   "execution_count": 22,
   "id": "4f689064",
   "metadata": {},
   "outputs": [
    {
     "data": {
      "text/plain": [
       "[0, 4, 16]"
      ]
     },
     "execution_count": 22,
     "metadata": {},
     "output_type": "execute_result"
    }
   ],
   "source": [
    "# list comprehension\n",
    "b = [0, 1, 2, 3, 4, 5]\n",
    "c = [member**2 for member in b if member % 2 == 0]\n",
    "c"
   ]
  },
  {
   "cell_type": "code",
   "execution_count": 23,
   "id": "d9f5b54b",
   "metadata": {},
   "outputs": [],
   "source": [
    "a = [0] * 5"
   ]
  },
  {
   "cell_type": "code",
   "execution_count": 24,
   "id": "0be0dbd8",
   "metadata": {},
   "outputs": [
    {
     "data": {
      "text/plain": [
       "[0, 0, 0, 0, 0]"
      ]
     },
     "execution_count": 24,
     "metadata": {},
     "output_type": "execute_result"
    }
   ],
   "source": [
    "a"
   ]
  },
  {
   "cell_type": "code",
   "execution_count": 25,
   "id": "db6d69e9",
   "metadata": {},
   "outputs": [
    {
     "data": {
      "text/plain": [
       "[0, 1, 0, 0, 0]"
      ]
     },
     "execution_count": 25,
     "metadata": {},
     "output_type": "execute_result"
    }
   ],
   "source": [
    "a[1] = 1\n",
    "a"
   ]
  },
  {
   "cell_type": "code",
   "execution_count": 27,
   "id": "5dfb249e",
   "metadata": {},
   "outputs": [
    {
     "data": {
      "text/plain": [
       "[[0, 1, 0, 0, 0], [0, 1, 0, 0, 0]]"
      ]
     },
     "execution_count": 27,
     "metadata": {},
     "output_type": "execute_result"
    }
   ],
   "source": [
    "b = [a] * 2\n",
    "b"
   ]
  },
  {
   "cell_type": "code",
   "execution_count": 28,
   "id": "17e62ae9",
   "metadata": {},
   "outputs": [],
   "source": [
    "b[0][0] = 2"
   ]
  },
  {
   "cell_type": "code",
   "execution_count": 29,
   "id": "eccff842",
   "metadata": {},
   "outputs": [
    {
     "data": {
      "text/plain": [
       "[[2, 1, 0, 0, 0], [2, 1, 0, 0, 0]]"
      ]
     },
     "execution_count": 29,
     "metadata": {},
     "output_type": "execute_result"
    }
   ],
   "source": [
    "b"
   ]
  },
  {
   "cell_type": "code",
   "execution_count": 30,
   "id": "6630a616",
   "metadata": {},
   "outputs": [
    {
     "data": {
      "text/plain": [
       "[2, 1, 0, 0, 0]"
      ]
     },
     "execution_count": 30,
     "metadata": {},
     "output_type": "execute_result"
    }
   ],
   "source": [
    "a"
   ]
  },
  {
   "cell_type": "code",
   "execution_count": 31,
   "id": "fe1fed92",
   "metadata": {},
   "outputs": [],
   "source": [
    "#a = [0] * 5\n",
    "b = [[0 for i in range(5)] for j in range(2)]"
   ]
  },
  {
   "cell_type": "code",
   "execution_count": 32,
   "id": "49f8380b",
   "metadata": {},
   "outputs": [
    {
     "data": {
      "text/plain": [
       "[[0, 0, 0, 0, 0], [0, 0, 0, 0, 0]]"
      ]
     },
     "execution_count": 32,
     "metadata": {},
     "output_type": "execute_result"
    }
   ],
   "source": [
    "b"
   ]
  },
  {
   "cell_type": "code",
   "execution_count": 33,
   "id": "578394d4",
   "metadata": {},
   "outputs": [],
   "source": [
    "b[0][0] = 1"
   ]
  },
  {
   "cell_type": "code",
   "execution_count": 34,
   "id": "47188b8d",
   "metadata": {},
   "outputs": [
    {
     "data": {
      "text/plain": [
       "[[1, 0, 0, 0, 0], [0, 0, 0, 0, 0]]"
      ]
     },
     "execution_count": 34,
     "metadata": {},
     "output_type": "execute_result"
    }
   ],
   "source": [
    "b"
   ]
  },
  {
   "cell_type": "code",
   "execution_count": 35,
   "id": "898365d4",
   "metadata": {},
   "outputs": [],
   "source": [
    "def f(a, b):\n",
    "    return a + b"
   ]
  },
  {
   "cell_type": "code",
   "execution_count": 36,
   "id": "6a6eeb25",
   "metadata": {},
   "outputs": [
    {
     "data": {
      "text/plain": [
       "3"
      ]
     },
     "execution_count": 36,
     "metadata": {},
     "output_type": "execute_result"
    }
   ],
   "source": [
    "f(1, 2)"
   ]
  },
  {
   "cell_type": "code",
   "execution_count": 37,
   "id": "c0d9edb9",
   "metadata": {},
   "outputs": [
    {
     "data": {
      "text/plain": [
       "'12'"
      ]
     },
     "execution_count": 37,
     "metadata": {},
     "output_type": "execute_result"
    }
   ],
   "source": [
    "f('1', '2')"
   ]
  },
  {
   "cell_type": "code",
   "execution_count": 43,
   "id": "d563ecec",
   "metadata": {},
   "outputs": [],
   "source": [
    "def f(a : int, b : int):\n",
    "    def g(c, d):\n",
    "        return c + d\n",
    "    return g(a, b) *2"
   ]
  },
  {
   "cell_type": "code",
   "execution_count": 44,
   "id": "4ac87b69",
   "metadata": {},
   "outputs": [
    {
     "data": {
      "text/plain": [
       "'1212'"
      ]
     },
     "execution_count": 44,
     "metadata": {},
     "output_type": "execute_result"
    }
   ],
   "source": [
    "f('1', '2')"
   ]
  },
  {
   "cell_type": "code",
   "execution_count": 47,
   "id": "178f7e25",
   "metadata": {},
   "outputs": [
    {
     "data": {
      "text/plain": [
       "['apple', 'berry', 'kivy', 'oranage']"
      ]
     },
     "execution_count": 47,
     "metadata": {},
     "output_type": "execute_result"
    }
   ],
   "source": [
    "a = ['apple', 'oranage', 'berry', 'kivy']\n",
    "a.sort()\n",
    "a"
   ]
  },
  {
   "cell_type": "code",
   "execution_count": 57,
   "id": "73ad0cfa",
   "metadata": {},
   "outputs": [
    {
     "data": {
      "text/plain": [
       "['berry', 'kivy', 'apple', 'oranage']"
      ]
     },
     "execution_count": 57,
     "metadata": {},
     "output_type": "execute_result"
    }
   ],
   "source": [
    "a.sort(key = lambda s: s[1])\n",
    "a"
   ]
  },
  {
   "cell_type": "code",
   "execution_count": 55,
   "id": "f73d2e10",
   "metadata": {},
   "outputs": [],
   "source": [
    "a.sort(key = len)"
   ]
  },
  {
   "cell_type": "code",
   "execution_count": 59,
   "id": "e6db5944",
   "metadata": {},
   "outputs": [
    {
     "data": {
      "text/plain": [
       "[1, 2, 3]"
      ]
     },
     "execution_count": 59,
     "metadata": {},
     "output_type": "execute_result"
    }
   ],
   "source": [
    "def f(a):\n",
    "    return a**2\n",
    "\n",
    "a = ['1', '2', '3']\n",
    "b = list(map(int, a))\n",
    "b"
   ]
  },
  {
   "cell_type": "code",
   "execution_count": 60,
   "id": "26dd26b2",
   "metadata": {},
   "outputs": [],
   "source": [
    "b = map(int, a)"
   ]
  },
  {
   "cell_type": "code",
   "execution_count": 61,
   "id": "d3fedd00",
   "metadata": {},
   "outputs": [
    {
     "data": {
      "text/plain": [
       "<map at 0x1f10ca28b20>"
      ]
     },
     "execution_count": 61,
     "metadata": {},
     "output_type": "execute_result"
    }
   ],
   "source": [
    "b"
   ]
  },
  {
   "cell_type": "code",
   "execution_count": 62,
   "id": "f0ba5a99",
   "metadata": {},
   "outputs": [
    {
     "name": "stdout",
     "output_type": "stream",
     "text": [
      "1\n",
      "2\n",
      "3\n"
     ]
    }
   ],
   "source": [
    "for member in b:\n",
    "    print(member)"
   ]
  },
  {
   "cell_type": "code",
   "execution_count": 63,
   "id": "53c31bd3",
   "metadata": {},
   "outputs": [],
   "source": [
    "for member in b:\n",
    "    print(member)"
   ]
  },
  {
   "cell_type": "code",
   "execution_count": 64,
   "id": "4a404643",
   "metadata": {},
   "outputs": [],
   "source": [
    "myfile = open('session1.txt', 'w')"
   ]
  },
  {
   "cell_type": "code",
   "execution_count": 65,
   "id": "99af84ab",
   "metadata": {},
   "outputs": [],
   "source": [
    "print('hello python', file = myfile)"
   ]
  },
  {
   "cell_type": "code",
   "execution_count": 66,
   "id": "92ab8709",
   "metadata": {},
   "outputs": [],
   "source": [
    "myfile.close()"
   ]
  },
  {
   "cell_type": "code",
   "execution_count": 67,
   "id": "a675f32b",
   "metadata": {},
   "outputs": [],
   "source": [
    "myfile = open('session1.txt', 'r')"
   ]
  },
  {
   "cell_type": "code",
   "execution_count": 75,
   "id": "54fd3db6",
   "metadata": {},
   "outputs": [],
   "source": [
    "myfile = open('session1.txt')"
   ]
  },
  {
   "cell_type": "code",
   "execution_count": 72,
   "id": "efd4ac0e",
   "metadata": {},
   "outputs": [
    {
     "name": "stdout",
     "output_type": "stream",
     "text": [
      "hello python\n",
      "salam python\n",
      "salam AP\n",
      "hello AP\n"
     ]
    }
   ],
   "source": [
    "for line in myfile:\n",
    "    print(line.strip())"
   ]
  },
  {
   "cell_type": "code",
   "execution_count": 76,
   "id": "09e33a01",
   "metadata": {},
   "outputs": [],
   "source": [
    "data = myfile.readlines()"
   ]
  },
  {
   "cell_type": "code",
   "execution_count": 77,
   "id": "5e445bcc",
   "metadata": {},
   "outputs": [
    {
     "data": {
      "text/plain": [
       "['hello python\\n', 'salam python\\n', 'salam AP\\n', 'hello AP']"
      ]
     },
     "execution_count": 77,
     "metadata": {},
     "output_type": "execute_result"
    }
   ],
   "source": [
    "data"
   ]
  },
  {
   "cell_type": "code",
   "execution_count": null,
   "id": "7847dc4e",
   "metadata": {},
   "outputs": [],
   "source": []
  }
 ],
 "metadata": {
  "kernelspec": {
   "display_name": "Python 3 (ipykernel)",
   "language": "python",
   "name": "python3"
  },
  "language_info": {
   "codemirror_mode": {
    "name": "ipython",
    "version": 3
   },
   "file_extension": ".py",
   "mimetype": "text/x-python",
   "name": "python",
   "nbconvert_exporter": "python",
   "pygments_lexer": "ipython3",
   "version": "3.10.6"
  }
 },
 "nbformat": 4,
 "nbformat_minor": 5
}
