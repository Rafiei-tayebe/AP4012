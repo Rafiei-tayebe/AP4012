{
 "cells": [
  {
   "cell_type": "markdown",
   "metadata": {},
   "source": [
    "#### Example 1:\n",
    "Let’s say we want to implement a counter to record how many time the word has been repeated. The first thing you may want to do is to define a dictionary in global scope, and then create a function to add in the words as key into this dictionary and also update the number of times it repeated. Below is the sample code:"
   ]
  },
  {
   "cell_type": "code",
   "execution_count": 1,
   "metadata": {},
   "outputs": [
    {
     "name": "stdout",
     "output_type": "stream",
     "text": [
      "1\n",
      "1\n",
      "2\n",
      "3\n",
      "2\n",
      "1\n",
      "0\n",
      "0\n"
     ]
    }
   ],
   "source": [
    "counter = dict()\n",
    "\n",
    "def count_word(word):  \n",
    "    global counter  \n",
    "    \n",
    "    # some validation ...\n",
    "    word = word.lower()\n",
    "    if word not in ['the', 'or', 'and', 'is', 'am', 'are'] and not word.isdigit():\n",
    "        counter[word] = counter.get(word, 0) + 1\n",
    "        return counter[word]\n",
    "    \n",
    "    return 0\n",
    "\n",
    "text = 'Java Python Java Java Python C# 1234 the'\n",
    "for word in text.split():\n",
    "    print(count_word(word))"
   ]
  },
  {
   "cell_type": "code",
   "execution_count": 4,
   "metadata": {},
   "outputs": [
    {
     "data": {
      "text/plain": [
       "{'java': 3, 'python': 3, 'c#': 1}"
      ]
     },
     "execution_count": 4,
     "metadata": {},
     "output_type": "execute_result"
    }
   ],
   "source": [
    "counter"
   ]
  },
  {
   "cell_type": "code",
   "execution_count": 3,
   "metadata": {},
   "outputs": [
    {
     "data": {
      "text/plain": [
       "3"
      ]
     },
     "execution_count": 3,
     "metadata": {},
     "output_type": "execute_result"
    }
   ],
   "source": [
    "count_word('python')"
   ]
  },
  {
   "cell_type": "code",
   "execution_count": 5,
   "metadata": {},
   "outputs": [],
   "source": [
    "counter[1234] = 1"
   ]
  },
  {
   "cell_type": "code",
   "execution_count": 6,
   "metadata": {},
   "outputs": [
    {
     "data": {
      "text/plain": [
       "{'java': 3, 'python': 3, 'c#': 1, 1234: 1}"
      ]
     },
     "execution_count": 6,
     "metadata": {},
     "output_type": "execute_result"
    }
   ],
   "source": [
    "counter"
   ]
  },
  {
   "cell_type": "code",
   "execution_count": null,
   "metadata": {},
   "outputs": [],
   "source": [
    "counter\n",
    "\n",
    "# To make sure the count_word function updates the correct “counter”,\n",
    "# we need to put the global keyword to explicitly tell Python interpreter\n",
    "# to use the “counter” defined in global scope, not any variable we accidentally\n",
    "# defined with the same name in the local scope (within this function)."
   ]
  },
  {
   "cell_type": "markdown",
   "metadata": {},
   "source": [
    "#### issue1 :\n",
    "The global variable is accessible to any of the other functions and you cannot guarantee your data won’t be modified by others. \n",
    "\n",
    "#### issue2 : \n",
    "The global variable exists in the memory as long as the program is still running, so you may not want to create so many global variables if not necessary."
   ]
  },
  {
   "cell_type": "code",
   "execution_count": 7,
   "metadata": {},
   "outputs": [],
   "source": [
    "#### Solution: bound the variable with the function inside another function\n",
    "\n",
    "def word_counter():\n",
    "    counter = dict()\n",
    "    \n",
    "    def count(word):\n",
    "        nonlocal counter\n",
    "        word = word.lower()\n",
    "        if word not in ['the', 'or', 'and', 'is', 'am', 'are'] and not word.isdigit():\n",
    "            counter[word] = counter.get(word, 0) + 1\n",
    "            return counter[word]\n",
    "        else:\n",
    "            return 0\n",
    "        \n",
    "    return count"
   ]
  },
  {
   "cell_type": "markdown",
   "metadata": {},
   "source": [
    "the counter dictionary is hidden from the public access and the functionality remains the same."
   ]
  },
  {
   "cell_type": "code",
   "execution_count": 8,
   "metadata": {},
   "outputs": [],
   "source": [
    "c = word_counter() # counter = dict() , count\n",
    "d = word_counter() # # counter = dict() , count\n",
    "#count\n",
    "text = 'Java Python Java Java Python C# 1234 the'\n",
    "for word in text.split():\n",
    "    c(word)\n",
    "    \n",
    "text = 'Java Java Java C# 1234 the'\n",
    "for word in text.split():\n",
    "    d(word)"
   ]
  },
  {
   "cell_type": "code",
   "execution_count": 9,
   "metadata": {},
   "outputs": [
    {
     "data": {
      "text/plain": [
       "1"
      ]
     },
     "execution_count": 9,
     "metadata": {},
     "output_type": "execute_result"
    }
   ],
   "source": [
    "d('python')"
   ]
  },
  {
   "cell_type": "markdown",
   "metadata": {},
   "source": [
    "Dont worry! It is a closure\n",
    "\n",
    "-------"
   ]
  },
  {
   "cell_type": "markdown",
   "metadata": {},
   "source": [
    "### Closures"
   ]
  },
  {
   "cell_type": "markdown",
   "metadata": {},
   "source": [
    "Functions defined inside another function can access the outer (nonlocal) variables"
   ]
  },
  {
   "cell_type": "code",
   "execution_count": null,
   "metadata": {
    "tags": []
   },
   "outputs": [],
   "source": [
    "def outer():\n",
    "    x = 'python' # non-local variable x (or free variable)\n",
    "    def inner(): # a function defined inside the outer function \n",
    "        print(f'{x} rocks') # and referenced x, which is defined in the outer function\n",
    "    return inner"
   ]
  },
  {
   "cell_type": "markdown",
   "metadata": {},
   "source": [
    "when we consider inner, we really are looking at two things:\n",
    "+ the function inner\n",
    "+ the free variable x (with current value python)\n",
    "  x is not in the local scope of inner, it is in somewhere else\n",
    "  \n",
    "This two things have to __bound together__ . It is called a closure.\n",
    "closure is a nested function remembers and has access to variables in the scope of the function in which it is defined.\n",
    "\n",
    "A Closure is a __function__ plus an extended scope that contains the __free variables__"
   ]
  },
  {
   "cell_type": "code",
   "execution_count": 10,
   "metadata": {},
   "outputs": [],
   "source": [
    "def outer():\n",
    "    x = 'python' # non-local variable x (or free variable)\n",
    "    def inner(): # a function defined inside the outer function \n",
    "        print(f'{x} rocks') # and referenced x, which is defined in the outer function\n",
    "    return inner"
   ]
  },
  {
   "cell_type": "code",
   "execution_count": 11,
   "metadata": {
    "tags": []
   },
   "outputs": [],
   "source": [
    "fn = outer() # fn is (inner + free variable). it creates inner (no run)"
   ]
  },
  {
   "cell_type": "code",
   "execution_count": 12,
   "metadata": {},
   "outputs": [
    {
     "data": {
      "text/plain": [
       "<function __main__.outer.<locals>.inner()>"
      ]
     },
     "execution_count": 12,
     "metadata": {},
     "output_type": "execute_result"
    }
   ],
   "source": [
    "outer()"
   ]
  },
  {
   "cell_type": "code",
   "execution_count": 13,
   "metadata": {},
   "outputs": [
    {
     "name": "stdout",
     "output_type": "stream",
     "text": [
      "python rocks\n"
     ]
    }
   ],
   "source": [
    "fn() # "
   ]
  },
  {
   "cell_type": "code",
   "execution_count": 14,
   "metadata": {},
   "outputs": [
    {
     "data": {
      "text/plain": [
       "function"
      ]
     },
     "execution_count": 14,
     "metadata": {},
     "output_type": "execute_result"
    }
   ],
   "source": [
    "type(fn)"
   ]
  },
  {
   "cell_type": "code",
   "execution_count": 15,
   "metadata": {},
   "outputs": [
    {
     "data": {
      "text/plain": [
       "('x',)"
      ]
     },
     "execution_count": 15,
     "metadata": {},
     "output_type": "execute_result"
    }
   ],
   "source": [
    "fn.__code__.co_freevars "
   ]
  },
  {
   "cell_type": "markdown",
   "metadata": {},
   "source": [
    "As we can see, `x` is a free variable in the closure."
   ]
  },
  {
   "cell_type": "markdown",
   "metadata": {},
   "source": [
    "#### Why do we use closures?\n",
    "1. Hide data with Python closure <br>\n",
    "   Example 1\n",
    "2. Convert small class to function with Python closure <br>\n",
    "   Example 2\n",
    "3. Decorators <br>\n",
    "   Next part\n",
    "    \n"
   ]
  },
  {
   "cell_type": "markdown",
   "metadata": {},
   "source": [
    "#### Example 2\n",
    "Occasionally in your project, you may want to implement a small utility class to do some simple task. Let’s take a look at the below example:"
   ]
  },
  {
   "cell_type": "code",
   "execution_count": 1,
   "metadata": {},
   "outputs": [],
   "source": [
    "import requests"
   ]
  },
  {
   "cell_type": "code",
   "execution_count": 8,
   "metadata": {},
   "outputs": [],
   "source": [
    "url = 'https://divar.ir/s/{city}/{item}?price={min_price}-{max_price}'.format(\n",
    "    city = 'tehran', item = 'car', min_price = 100000000, max_price = 200000000)"
   ]
  },
  {
   "cell_type": "code",
   "execution_count": 10,
   "metadata": {},
   "outputs": [
    {
     "name": "stdout",
     "output_type": "stream",
     "text": [
      "https://divar.ir/s/tehran/car?price=100000000-200000000\n"
     ]
    }
   ],
   "source": [
    "print(url)"
   ]
  },
  {
   "cell_type": "code",
   "execution_count": 12,
   "metadata": {},
   "outputs": [],
   "source": [
    "import requests\n",
    "\n",
    "class RequestMaker:\n",
    "    def __init__(self, base_url):\n",
    "        self.url = base_url\n",
    "        \n",
    "    def request(self, **kwargs):\n",
    "        return requests.get(self.url.format_map(kwargs))"
   ]
  },
  {
   "cell_type": "code",
   "execution_count": 13,
   "metadata": {},
   "outputs": [
    {
     "data": {
      "text/plain": [
       "<Response [200]>"
      ]
     },
     "execution_count": 13,
     "metadata": {},
     "output_type": "execute_result"
    }
   ],
   "source": [
    "divar = RequestMaker('https://divar.ir/s/{city}/{item}?price={min_price}-{max_price}')\n",
    "divar.request(city = 'tehran', item = 'car', min_price = 100000000, max_price = 200000000)"
   ]
  },
  {
   "cell_type": "code",
   "execution_count": 14,
   "metadata": {},
   "outputs": [
    {
     "data": {
      "text/plain": [
       "<Response [404]>"
      ]
     },
     "execution_count": 14,
     "metadata": {},
     "output_type": "execute_result"
    }
   ],
   "source": [
    "divar.request(city = 'new york', item = 'car', min_price = 100000000, max_price = 200000000)"
   ]
  },
  {
   "cell_type": "markdown",
   "metadata": {},
   "source": [
    "Since you’ve already seen in the word counter example, the closure can also hold the data for your later use, the above class can be converted into a function with closure:"
   ]
  },
  {
   "cell_type": "code",
   "execution_count": 15,
   "metadata": {},
   "outputs": [],
   "source": [
    "import requests\n",
    "\n",
    "def request_maker(url):\n",
    "    def make_request(**kwargs):\n",
    "        return requests.get(url.format_map(kwargs))\n",
    "    return make_request\n"
   ]
  },
  {
   "cell_type": "markdown",
   "metadata": {},
   "source": [
    "The code becomes more concise and achieves the same result. Take note that in the above code, we are able to pass in the arguments into the nested function with \\*\\*kwargs (or \\*args)."
   ]
  },
  {
   "cell_type": "code",
   "execution_count": 16,
   "metadata": {},
   "outputs": [
    {
     "data": {
      "text/plain": [
       "<Response [200]>"
      ]
     },
     "execution_count": 16,
     "metadata": {},
     "output_type": "execute_result"
    }
   ],
   "source": [
    "divar = request_maker('https://divar.ir/s/{city}/{item}?price={min_price}-{max_price}')\n",
    "divar(city = 'tehran', item = 'car', min_price = 100000000, max_price = 200000000)"
   ]
  },
  {
   "cell_type": "markdown",
   "metadata": {},
   "source": [
    "### Multiple Instances of Closures"
   ]
  },
  {
   "cell_type": "code",
   "execution_count": 16,
   "metadata": {
    "tags": []
   },
   "outputs": [],
   "source": [
    "def pow(n):\n",
    "    # n is local to pow\n",
    "    def inner(x):\n",
    "        # x is local to inner\n",
    "        return x ** n\n",
    "    return inner"
   ]
  },
  {
   "cell_type": "markdown",
   "metadata": {},
   "source": [
    "In this example, `n`, in the function `inner` is a free variable, so we have a closure that contains `inner` and the free variable `n`"
   ]
  },
  {
   "cell_type": "code",
   "execution_count": 17,
   "metadata": {
    "tags": []
   },
   "outputs": [],
   "source": [
    "square = pow(2) # n= 2"
   ]
  },
  {
   "cell_type": "code",
   "execution_count": 18,
   "metadata": {},
   "outputs": [
    {
     "data": {
      "text/plain": [
       "36"
      ]
     },
     "execution_count": 18,
     "metadata": {},
     "output_type": "execute_result"
    }
   ],
   "source": [
    "square(6)"
   ]
  },
  {
   "cell_type": "code",
   "execution_count": 19,
   "metadata": {
    "tags": []
   },
   "outputs": [],
   "source": [
    "cube = pow(3) # n= 3"
   ]
  },
  {
   "cell_type": "code",
   "execution_count": 20,
   "metadata": {},
   "outputs": [
    {
     "data": {
      "text/plain": [
       "125"
      ]
     },
     "execution_count": 20,
     "metadata": {},
     "output_type": "execute_result"
    }
   ],
   "source": [
    "cube(5)"
   ]
  },
  {
   "cell_type": "code",
   "execution_count": null,
   "metadata": {},
   "outputs": [],
   "source": []
  }
 ],
 "metadata": {
  "kernelspec": {
   "display_name": "Python 3 (ipykernel)",
   "language": "python",
   "name": "python3"
  },
  "language_info": {
   "codemirror_mode": {
    "name": "ipython",
    "version": 3
   },
   "file_extension": ".py",
   "mimetype": "text/x-python",
   "name": "python",
   "nbconvert_exporter": "python",
   "pygments_lexer": "ipython3",
   "version": "3.10.6"
  }
 },
 "nbformat": 4,
 "nbformat_minor": 4
}
