{
 "cells": [
  {
   "cell_type": "markdown",
   "metadata": {
    "id": "cDoalixYfKKG"
   },
   "source": [
    "## Decorators\n",
    "Sometimes we may need to modify several functions in the same way – for example, we may want to perform a particular action before and after executing each of the functions, or pass in an extra parameter, or convert the output to another format.\n",
    "\n",
    "We may also have good reasons not to write the modification into all the functions – maybe it would make the function definitions very verbose and unwieldy, and maybe we would like the option to apply the modification quickly and easily to any function (and remove it just as easily).\n",
    "\n",
    "To solve this problem, we can write a function which modifies functions. We call a function like this a decorator. Our function will take a function object as a parameter, and will return a new function object – we can then assign the new function value to the old function’s name to replace the old function with the new function. For example, here is a decorator which logs the function name and its arguments to a log file whenever the function is used:"
   ]
  },
  {
   "cell_type": "code",
   "execution_count": 1,
   "metadata": {
    "id": "Q7LMnSJyfKKG"
   },
   "outputs": [],
   "source": [
    "# we define a decorator\n",
    "def log(original_function):\n",
    "    \n",
    "    def new_function(*args, **kwargs):\n",
    "        \n",
    "        original_function_return_value = original_function(*args, **kwargs)\n",
    "        \n",
    "        print(f\"Function '{original_function.__name__}' is called with positional arguments {args} and keyword arguments {kwargs}\")\n",
    "        print(f\"return value: {original_function_return_value}\")\n",
    "        \n",
    "        return original_function_return_value\n",
    "    \n",
    "    return new_function\n"
   ]
  },
  {
   "cell_type": "code",
   "execution_count": 2,
   "metadata": {},
   "outputs": [],
   "source": [
    "def my_function(a, b):\n",
    "    return a+b\n",
    "    "
   ]
  },
  {
   "cell_type": "code",
   "execution_count": 3,
   "metadata": {},
   "outputs": [],
   "source": [
    "new_function = log(my_function)"
   ]
  },
  {
   "cell_type": "code",
   "execution_count": 6,
   "metadata": {},
   "outputs": [
    {
     "name": "stdout",
     "output_type": "stream",
     "text": [
      "Function 'my_function' is called with positional arguments (8,) and keyword arguments {'b': 4}\n",
      "return value: 12\n"
     ]
    },
    {
     "data": {
      "text/plain": [
       "12"
      ]
     },
     "execution_count": 6,
     "metadata": {},
     "output_type": "execute_result"
    }
   ],
   "source": [
    "new_function(8, b=4)"
   ]
  },
  {
   "cell_type": "code",
   "execution_count": 7,
   "metadata": {},
   "outputs": [],
   "source": [
    "def apple(a, b, c):\n",
    "    return a + b + c\n",
    "\n"
   ]
  },
  {
   "cell_type": "code",
   "execution_count": 8,
   "metadata": {},
   "outputs": [],
   "source": [
    "apple = log(apple)"
   ]
  },
  {
   "cell_type": "code",
   "execution_count": 9,
   "metadata": {},
   "outputs": [
    {
     "name": "stdout",
     "output_type": "stream",
     "text": [
      "Function 'apple' is called with positional arguments (1, 2) and keyword arguments {'c': 8}\n",
      "return value: 11\n"
     ]
    },
    {
     "data": {
      "text/plain": [
       "11"
      ]
     },
     "execution_count": 9,
     "metadata": {},
     "output_type": "execute_result"
    }
   ],
   "source": [
    "apple(1, 2, c = 8)"
   ]
  },
  {
   "cell_type": "code",
   "execution_count": 8,
   "metadata": {},
   "outputs": [
    {
     "name": "stdout",
     "output_type": "stream",
     "text": [
      "Function 'my_function' is called with positional arguments (1, 2) and keyword arguments {}\n",
      "return value: 3\n"
     ]
    },
    {
     "data": {
      "text/plain": [
       "3"
      ]
     },
     "execution_count": 8,
     "metadata": {},
     "output_type": "execute_result"
    }
   ],
   "source": [
    "new_function(1,2)"
   ]
  },
  {
   "cell_type": "code",
   "execution_count": 1,
   "metadata": {},
   "outputs": [],
   "source": [
    "def apple(x):\n",
    "    return 'apple'"
   ]
  },
  {
   "cell_type": "code",
   "execution_count": 2,
   "metadata": {},
   "outputs": [
    {
     "data": {
      "text/plain": [
       "'apple'"
      ]
     },
     "execution_count": 2,
     "metadata": {},
     "output_type": "execute_result"
    }
   ],
   "source": [
    "apple.__name__"
   ]
  },
  {
   "cell_type": "code",
   "execution_count": 4,
   "metadata": {},
   "outputs": [],
   "source": [
    "# here is a function to decorate\n",
    "def my_function(a, b):\n",
    "    return a + b\n",
    "\n",
    "def add(a,b,c):\n",
    "    return a + b + c"
   ]
  },
  {
   "cell_type": "code",
   "execution_count": 5,
   "metadata": {},
   "outputs": [
    {
     "data": {
      "text/plain": [
       "3"
      ]
     },
     "execution_count": 5,
     "metadata": {},
     "output_type": "execute_result"
    }
   ],
   "source": [
    "my_function(1, 2)"
   ]
  },
  {
   "cell_type": "code",
   "execution_count": 3,
   "metadata": {},
   "outputs": [],
   "source": [
    "new_function = log(my_function)"
   ]
  },
  {
   "cell_type": "code",
   "execution_count": 5,
   "metadata": {},
   "outputs": [
    {
     "data": {
      "text/plain": [
       "3"
      ]
     },
     "execution_count": 5,
     "metadata": {},
     "output_type": "execute_result"
    }
   ],
   "source": [
    "my_function(1,2)"
   ]
  },
  {
   "cell_type": "code",
   "execution_count": 6,
   "metadata": {},
   "outputs": [
    {
     "name": "stdout",
     "output_type": "stream",
     "text": [
      "Function 'my_function' is called with positional arguments (1, 2) and keyword arguments {}\n",
      "return value: 3\n"
     ]
    },
    {
     "data": {
      "text/plain": [
       "3"
      ]
     },
     "execution_count": 6,
     "metadata": {},
     "output_type": "execute_result"
    }
   ],
   "source": [
    "new_function(1,2)"
   ]
  },
  {
   "cell_type": "code",
   "execution_count": 7,
   "metadata": {},
   "outputs": [
    {
     "name": "stdout",
     "output_type": "stream",
     "text": [
      "Function 'my_function' is called with positional arguments (1,) and keyword arguments {'b': 2}\n",
      "return value: 3\n"
     ]
    },
    {
     "data": {
      "text/plain": [
       "3"
      ]
     },
     "execution_count": 7,
     "metadata": {},
     "output_type": "execute_result"
    }
   ],
   "source": [
    "new_function(1, b=2)"
   ]
  },
  {
   "cell_type": "code",
   "execution_count": 8,
   "metadata": {},
   "outputs": [
    {
     "name": "stdout",
     "output_type": "stream",
     "text": [
      "hello-world\n",
      "Function 'print' is called with positional arguments ('hello', 'world') and keyword arguments {'sep': '-'}\n",
      "return value: None\n"
     ]
    }
   ],
   "source": [
    "new_print = log(print)\n",
    "new_print('hello', 'world', sep = '-')"
   ]
  },
  {
   "cell_type": "code",
   "execution_count": 10,
   "metadata": {},
   "outputs": [
    {
     "name": "stdout",
     "output_type": "stream",
     "text": [
      "Function 'type' is called with positional arguments (2.5,) and keyword arguments {}\n",
      "return value: <class 'float'>\n"
     ]
    }
   ],
   "source": [
    "x = log(type)(2.5)"
   ]
  },
  {
   "cell_type": "code",
   "execution_count": 10,
   "metadata": {},
   "outputs": [],
   "source": [
    "# and here is how we decorate it\n",
    "my_function = log(my_function)"
   ]
  },
  {
   "cell_type": "code",
   "execution_count": 11,
   "metadata": {
    "id": "q8lwqY68fKKG",
    "outputId": "a5b958b4-34c9-4cd4-8a55-ce36d967a901"
   },
   "outputs": [
    {
     "name": "stdout",
     "output_type": "stream",
     "text": [
      "Function 'my_function' is called with positional arguments (1, 2) and keyword arguments {}\n",
      "return value: 3\n"
     ]
    }
   ],
   "source": [
    "ans = my_function(1, 2)"
   ]
  },
  {
   "cell_type": "code",
   "execution_count": 12,
   "metadata": {
    "id": "hMxs0g4wfKKG",
    "outputId": "4c174252-419e-4799-b31f-447e2fda7f31"
   },
   "outputs": [
    {
     "name": "stdout",
     "output_type": "stream",
     "text": [
      "3\n"
     ]
    }
   ],
   "source": [
    "print(ans)\n",
    "# it returns the same output as the original function and also performs other things!"
   ]
  },
  {
   "cell_type": "code",
   "execution_count": 13,
   "metadata": {
    "id": "Q7zjjrCRfKKH",
    "outputId": "d0def4e3-ded8-4c10-8dec-32c1ed9c0c6a"
   },
   "outputs": [
    {
     "name": "stdout",
     "output_type": "stream",
     "text": [
      "Function 'my_function' is called with positional arguments (1,) and keyword arguments {'b': 2, 'c': 4}\n",
      "return value: -1\n"
     ]
    }
   ],
   "source": [
    "# here is another function to decorate\n",
    "def my_function(a, b, c):\n",
    "    return a + b - c\n",
    "\n",
    "# and here is how we decorate it\n",
    "my_function = log(my_function)\n",
    "\n",
    "ans = my_function(1, b=2, c=4)"
   ]
  },
  {
   "cell_type": "markdown",
   "metadata": {
    "id": "qxkTLkdGfKKH"
   },
   "source": [
    "Inside our decorator (the outer function) we define a replacement function and return it. The replacement function (the inner function) writes a log message and then simply calls the original function and returns its value.\n",
    "\n",
    "Note that the decorator function is only called once, when we replace the original function with the decorated function, but that the inner function will be called every time we use my_function. The inner function can access both variables in its own scope (like args and kwargs) and variables in the decorator’s scope (like original_function).\n",
    "\n",
    "Because the inner function takes *args and **kwargs as its parameters, we can use this decorator to decorate any function, no matter what its parameter list is. The inner function accepts any parameters, and simply passes them to the original function. We will still get an error inside the original function if we pass in the wrong parameters.\n",
    "\n",
    "There is a shorthand syntax for applying decorators to functions: we can use the @ symbol together with the decorator name before the definition of each function that we want to decorate:"
   ]
  },
  {
   "cell_type": "code",
   "execution_count": null,
   "metadata": {},
   "outputs": [],
   "source": [
    "apple = log(apple)"
   ]
  },
  {
   "cell_type": "code",
   "execution_count": null,
   "metadata": {},
   "outputs": [],
   "source": [
    "def my_function(message):\n",
    "    print(message)\n",
    "my_function = log(my_function)"
   ]
  },
  {
   "cell_type": "code",
   "execution_count": null,
   "metadata": {
    "id": "wEW-OrbqfKKH"
   },
   "outputs": [],
   "source": [
    "@log\n",
    "def my_function(message):\n",
    "    print(message)"
   ]
  },
  {
   "cell_type": "markdown",
   "metadata": {
    "id": "wdaPFmWwfKKH"
   },
   "source": [
    "`@log` before the function definition means exactly the same thing as my_function = log(my_function) after the function definition."
   ]
  },
  {
   "cell_type": "code",
   "execution_count": 11,
   "metadata": {
    "id": "GqwGc3MHfKKH"
   },
   "outputs": [
    {
     "name": "stdout",
     "output_type": "stream",
     "text": [
      "Time consumpotion is: 0.006264925003051758 seconds\n",
      "Time consumpotion is: 0.004693031311035156 seconds\n"
     ]
    }
   ],
   "source": [
    "import time\n",
    "def time_consumption(func):\n",
    "    def wrapper():\n",
    "        t1 = time.time()\n",
    "        ans = func()\n",
    "        t2 = time.time()\n",
    "        print(f'Time consumpotion is: {t2-t1} seconds')\n",
    "        return ans\n",
    "    return wrapper\n",
    "\n",
    "@time_consumption\n",
    "def func1():\n",
    "    mylist = []\n",
    "    for n in range(10**5):\n",
    "        mylist.append(n)\n",
    "    return mylist\n",
    "        \n",
    "@time_consumption\n",
    "def func2():\n",
    "    mylist = [n for n in range(10**5)] \n",
    "    return mylist\n",
    "    \n",
    "x = func1() # func1 = time_consumption(func1)\n",
    "y = func2()\n"
   ]
  },
  {
   "cell_type": "code",
   "execution_count": 12,
   "metadata": {},
   "outputs": [
    {
     "name": "stdout",
     "output_type": "stream",
     "text": [
      "True\n"
     ]
    }
   ],
   "source": [
    "print ( x == y )"
   ]
  },
  {
   "cell_type": "code",
   "execution_count": null,
   "metadata": {},
   "outputs": [],
   "source": []
  }
 ],
 "metadata": {
  "kernelspec": {
   "display_name": "Python 3 (ipykernel)",
   "language": "python",
   "name": "python3"
  },
  "language_info": {
   "codemirror_mode": {
    "name": "ipython",
    "version": 3
   },
   "file_extension": ".py",
   "mimetype": "text/x-python",
   "name": "python",
   "nbconvert_exporter": "python",
   "pygments_lexer": "ipython3",
   "version": "3.10.6"
  }
 },
 "nbformat": 4,
 "nbformat_minor": 4
}
