{
 "cells": [
  {
   "cell_type": "code",
   "execution_count": 27,
   "id": "a0b0ee31",
   "metadata": {},
   "outputs": [],
   "source": [
    "# oop\n",
    "from collections import OrderedDict\n",
    "class Student:\n",
    "    UNI = 'IUST' # class attribute/variable\n",
    "    def __init__(self, name, identical_num, entering_year, field = 'CS'): # dunder methods / magic methods\n",
    "        self.name = name # instance attribute/variable\n",
    "        self.identical_num = identical_num\n",
    "        if type(entering_year) == int and entring_year < 1402:\n",
    "            self.entering_year = entering_year\n",
    "        else:\n",
    "            print('invalid entring year')\n",
    "            \n",
    "        self.field = field\n",
    "        self.classes = OrderedDict()\n",
    "    def add_class(self, class_id): # instance method\n",
    "        self.classes[class_id] = None\n",
    "        \n",
    "    "
   ]
  },
  {
   "cell_type": "code",
   "execution_count": 34,
   "id": "92354cf6",
   "metadata": {},
   "outputs": [],
   "source": [
    "s = '1401'\n",
    "if type(s) == int and s < 1401:\n",
    "    print('ok')"
   ]
  },
  {
   "cell_type": "code",
   "execution_count": 28,
   "id": "9b26f9e4",
   "metadata": {},
   "outputs": [],
   "source": [
    "s1 = Student('a', '12234', '1400', 'Math')"
   ]
  },
  {
   "cell_type": "code",
   "execution_count": 32,
   "id": "a89fc8e7",
   "metadata": {},
   "outputs": [],
   "source": [
    "s1.entering_year = '1405'"
   ]
  },
  {
   "cell_type": "code",
   "execution_count": 33,
   "id": "efee93e3",
   "metadata": {},
   "outputs": [
    {
     "data": {
      "text/plain": [
       "{'name': 'a',\n",
       " 'identical_num': '12234',\n",
       " 'entering_year': '1405',\n",
       " 'field': 'Math',\n",
       " 'classes': OrderedDict([('000987', None)])}"
      ]
     },
     "execution_count": 33,
     "metadata": {},
     "output_type": "execute_result"
    }
   ],
   "source": [
    "s1.__dict__"
   ]
  },
  {
   "cell_type": "code",
   "execution_count": 30,
   "id": "541858c8",
   "metadata": {},
   "outputs": [],
   "source": [
    "s1.add_class('000987') # Student.add_class(s1, '000987')"
   ]
  },
  {
   "cell_type": "code",
   "execution_count": 31,
   "id": "ad5b70f9",
   "metadata": {},
   "outputs": [
    {
     "data": {
      "text/plain": [
       "{'name': 'a',\n",
       " 'identical_num': '12234',\n",
       " 'entering_year': '1400',\n",
       " 'field': 'Math',\n",
       " 'classes': OrderedDict([('000987', None)])}"
      ]
     },
     "execution_count": 31,
     "metadata": {},
     "output_type": "execute_result"
    }
   ],
   "source": [
    "s1.__dict__"
   ]
  },
  {
   "cell_type": "code",
   "execution_count": 15,
   "id": "6205ac45",
   "metadata": {},
   "outputs": [],
   "source": [
    "s2 = Student('x', '35131', '1401')"
   ]
  },
  {
   "cell_type": "code",
   "execution_count": 18,
   "id": "553d0169",
   "metadata": {},
   "outputs": [],
   "source": [
    "s2.UNI = 'AUT'"
   ]
  },
  {
   "cell_type": "code",
   "execution_count": 24,
   "id": "4b9c97f4",
   "metadata": {},
   "outputs": [
    {
     "data": {
      "text/plain": [
       "'AUT'"
      ]
     },
     "execution_count": 24,
     "metadata": {},
     "output_type": "execute_result"
    }
   ],
   "source": [
    "s2.UNI"
   ]
  },
  {
   "cell_type": "code",
   "execution_count": 22,
   "id": "bfffb41f",
   "metadata": {},
   "outputs": [],
   "source": [
    "Student.UNI = 'SUT'"
   ]
  },
  {
   "cell_type": "code",
   "execution_count": 26,
   "id": "020dd823",
   "metadata": {},
   "outputs": [
    {
     "data": {
      "text/plain": [
       "{'name': 'x',\n",
       " 'identical_num': '35131',\n",
       " 'entering_year': '1401',\n",
       " 'field': 'CS',\n",
       " 'classes': OrderedDict(),\n",
       " 'UNI': 'AUT'}"
      ]
     },
     "execution_count": 26,
     "metadata": {},
     "output_type": "execute_result"
    }
   ],
   "source": [
    "s2.__dict__"
   ]
  },
  {
   "cell_type": "code",
   "execution_count": null,
   "id": "f45d861b",
   "metadata": {},
   "outputs": [],
   "source": []
  },
  {
   "cell_type": "code",
   "execution_count": 2,
   "id": "7845b355",
   "metadata": {},
   "outputs": [],
   "source": [
    "s = Student('a', '1', '1'. 'cs') # Student.__init__(s,'a', '1', '1'. 'cs' )"
   ]
  },
  {
   "cell_type": "code",
   "execution_count": 3,
   "id": "30733294",
   "metadata": {},
   "outputs": [
    {
     "data": {
      "text/plain": [
       "mappingproxy({'__module__': '__main__',\n",
       "              'UNI': 'IUST',\n",
       "              '__dict__': <attribute '__dict__' of 'Student' objects>,\n",
       "              '__weakref__': <attribute '__weakref__' of 'Student' objects>,\n",
       "              '__doc__': None})"
      ]
     },
     "execution_count": 3,
     "metadata": {},
     "output_type": "execute_result"
    }
   ],
   "source": [
    "Student.__dict__"
   ]
  },
  {
   "cell_type": "code",
   "execution_count": 4,
   "id": "f7d998dc",
   "metadata": {},
   "outputs": [
    {
     "data": {
      "text/plain": [
       "{}"
      ]
     },
     "execution_count": 4,
     "metadata": {},
     "output_type": "execute_result"
    }
   ],
   "source": [
    "s.__dict__"
   ]
  },
  {
   "cell_type": "code",
   "execution_count": 5,
   "id": "7c40b8c1",
   "metadata": {},
   "outputs": [],
   "source": [
    "s.name = 'Ali'"
   ]
  },
  {
   "cell_type": "code",
   "execution_count": 6,
   "id": "9178eacb",
   "metadata": {},
   "outputs": [
    {
     "data": {
      "text/plain": [
       "{'name': 'Ali'}"
      ]
     },
     "execution_count": 6,
     "metadata": {},
     "output_type": "execute_result"
    }
   ],
   "source": [
    "s.__dict__"
   ]
  },
  {
   "cell_type": "code",
   "execution_count": 7,
   "id": "5c4c1ef2",
   "metadata": {},
   "outputs": [],
   "source": [
    "s2 = Student()"
   ]
  },
  {
   "cell_type": "code",
   "execution_count": 8,
   "id": "4dc2f6ff",
   "metadata": {},
   "outputs": [
    {
     "data": {
      "text/plain": [
       "{}"
      ]
     },
     "execution_count": 8,
     "metadata": {},
     "output_type": "execute_result"
    }
   ],
   "source": [
    "s2.__dict__"
   ]
  },
  {
   "cell_type": "code",
   "execution_count": null,
   "id": "84d0ed91",
   "metadata": {},
   "outputs": [],
   "source": []
  }
 ],
 "metadata": {
  "kernelspec": {
   "display_name": "Python 3 (ipykernel)",
   "language": "python",
   "name": "python3"
  },
  "language_info": {
   "codemirror_mode": {
    "name": "ipython",
    "version": 3
   },
   "file_extension": ".py",
   "mimetype": "text/x-python",
   "name": "python",
   "nbconvert_exporter": "python",
   "pygments_lexer": "ipython3",
   "version": "3.10.6"
  }
 },
 "nbformat": 4,
 "nbformat_minor": 5
}
