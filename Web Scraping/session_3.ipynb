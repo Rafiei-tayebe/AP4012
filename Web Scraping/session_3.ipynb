{
 "cells": [
  {
   "cell_type": "code",
   "execution_count": null,
   "metadata": {},
   "outputs": [],
   "source": [
    "!pip install selenium"
   ]
  },
  {
   "cell_type": "markdown",
   "metadata": {},
   "source": [
    "# Selenium"
   ]
  },
  {
   "cell_type": "code",
   "execution_count": null,
   "metadata": {},
   "outputs": [],
   "source": [
    "# Web driver is a part of selenium. Web driver is basically the core of selenium.\n",
    "from selenium import webdriver\n",
    "\n",
    "# specify the path to the extension file (.crx)\n",
    "extension_path = \"Chrome-SetupVPN-3.12.16.crx\"\n",
    "\n",
    "# add the extension to Chrome options\n",
    "options = webdriver.ChromeOptions()\n",
    "options.add_extension(extension_path)\n",
    "\n",
    "# create a new Chrome session with the extension\n",
    "driver = webdriver.Chrome(options=options)\n"
   ]
  },
  {
   "cell_type": "code",
   "execution_count": null,
   "metadata": {},
   "outputs": [],
   "source": [
    "# A new browser will pop up and that will be our controlled browser.\n",
    "driver.get('https://www.google.com/')"
   ]
  },
  {
   "cell_type": "code",
   "execution_count": null,
   "metadata": {},
   "outputs": [],
   "source": [
    "from selenium.webdriver.common.by import By\n",
    "search_path = '//*[@id=\"APjFqb\"]'\n",
    "element = driver.find_element(By.XPATH, search_path)"
   ]
  },
  {
   "cell_type": "code",
   "execution_count": null,
   "metadata": {},
   "outputs": [],
   "source": [
    "#inputting text into a box\n",
    "element.send_keys('web scraping')"
   ]
  },
  {
   "cell_type": "code",
   "execution_count": null,
   "metadata": {},
   "outputs": [],
   "source": [
    "# pressing a key\n",
    "from selenium.webdriver.common.keys import Keys\n",
    "element.send_keys(Keys.ENTER)"
   ]
  },
  {
   "cell_type": "code",
   "execution_count": null,
   "metadata": {},
   "outputs": [],
   "source": [
    "link_path = '//*[@id=\"Odp5De\"]/div/div[1]/div/div[1]/block-component/div/div[1]/div/div/div/div/div[1]/div/div/div/div/div[2]/div/div/div[1]/a/h3'\n",
    "element = driver.find_element(By.XPATH, link_path)"
   ]
  },
  {
   "cell_type": "code",
   "execution_count": null,
   "metadata": {},
   "outputs": [],
   "source": [
    "element.click()"
   ]
  },
  {
   "cell_type": "code",
   "execution_count": null,
   "metadata": {},
   "outputs": [],
   "source": [
    "#clicking on a button\n",
    "driver.get('https://www.google.com/')\n",
    "\n",
    "box = driver.find_element(By.XPATH, search_path)\n",
    "box.send_keys('web scraping')\n",
    "\n",
    "btn_name = 'btnK'\n",
    "button = driver.find_element(By.NAME, btn_name)\n",
    "\n"
   ]
  },
  {
   "cell_type": "code",
   "execution_count": null,
   "metadata": {},
   "outputs": [],
   "source": [
    "button.click()"
   ]
  },
  {
   "cell_type": "code",
   "execution_count": null,
   "metadata": {},
   "outputs": [],
   "source": [
    "# get current url\n",
    "print(driver.current_url)"
   ]
  },
  {
   "cell_type": "code",
   "execution_count": null,
   "metadata": {},
   "outputs": [],
   "source": [
    "#taking a screenshot\n",
    "driver.save_screenshot('screenshot.png')"
   ]
  },
  {
   "cell_type": "code",
   "execution_count": null,
   "metadata": {},
   "outputs": [],
   "source": [
    "from selenium.webdriver.common.keys import Keys\n",
    "\n",
    "# put everything  together\n",
    "driver.get('https://www.google.com/')\n",
    "\n",
    "#inputting text into a box\n",
    "box = driver.find_element(By.XPATH,search_path)\n",
    "box.send_keys('apple')\n",
    "\n",
    "box.send_keys(Keys.ENTER)\n",
    "\n",
    "# click on images\n",
    "driver.find_element(By.XPATH,'//*[@id=\"hdtb-msb\"]/div[1]/div/div[3]/a').click()"
   ]
  },
  {
   "cell_type": "code",
   "execution_count": null,
   "metadata": {},
   "outputs": [],
   "source": [
    "# click on images\n",
    "img = driver.find_element(By.XPATH,'//*[@id=\"i23\"]/div[1]/span/div/div[1]/div[2]/c-wiz/div')\n",
    "# /html/body/div[3]/c-wiz/div[1]/div/div[1]/div[1]/div/div/span[1]\n",
    "\n",
    "# take screenshot\n",
    "img.screenshot('apple.png')"
   ]
  },
  {
   "cell_type": "code",
   "execution_count": null,
   "metadata": {},
   "outputs": [],
   "source": [
    "driver.execute_script('return document.body.scrollHeight')  # it returns the height of the entire webpage"
   ]
  },
  {
   "cell_type": "code",
   "execution_count": null,
   "metadata": {},
   "outputs": [],
   "source": [
    "# refresh page\n",
    "driver.refresh()"
   ]
  },
  {
   "cell_type": "code",
   "execution_count": null,
   "metadata": {},
   "outputs": [],
   "source": [
    "driver.execute_script('window.scrollTo(0, 7622)')  # scroll"
   ]
  },
  {
   "cell_type": "code",
   "execution_count": null,
   "metadata": {},
   "outputs": [],
   "source": [
    "driver.execute_script('return document.body.scrollHeight')  # it returns the height of the entire webpage"
   ]
  },
  {
   "cell_type": "code",
   "execution_count": null,
   "metadata": {},
   "outputs": [],
   "source": [
    "driver.execute_script('window.scrollTo(0, document.body.scrollHeight)')"
   ]
  },
  {
   "cell_type": "code",
   "execution_count": null,
   "metadata": {},
   "outputs": [],
   "source": [
    "driver.execute_script('return document.body.scrollHeight')  # it returns the height of the entire webpage"
   ]
  },
  {
   "cell_type": "code",
   "execution_count": null,
   "metadata": {},
   "outputs": [],
   "source": [
    "while True:\n",
    "    driver.execute_script('window.scrollTo(0, document.body.scrollHeight)')"
   ]
  },
  {
   "cell_type": "code",
   "execution_count": null,
   "metadata": {},
   "outputs": [],
   "source": [
    "# Explain: self scrolling\n",
    "import time\n",
    "driver.get('https://www.google.com/')\n",
    "\n",
    "#inputting text into a box\n",
    "box = driver.find_element(By.XPATH,search_path)\n",
    "box.send_keys('apple')\n",
    "\n",
    "box.send_keys(Keys.ENTER)\n",
    "\n",
    "# click on images\n",
    "driver.find_element(By.XPATH,'//*[@id=\"hdtb-msb\"]/div[1]/div/div[3]/a').click()\n",
    "\n",
    "# self scrolling\n",
    "previous_height = driver.execute_script('return document.body.scrollHeight') \n",
    "while True:\n",
    "    driver.execute_script('window.scrollTo(0, document.body.scrollHeight)')\n",
    "    time.sleep(2)  # wait untill the page is loaded\n",
    "    current_height = driver.execute_script('return document.body.scrollHeight') \n",
    "    if previous_height == current_height:\n",
    "        break\n",
    "    previous_height = current_height"
   ]
  },
  {
   "cell_type": "code",
   "execution_count": null,
   "metadata": {},
   "outputs": [],
   "source": [
    "# self scrolling\n",
    "previous_height = driver.execute_script('return document.body.scrollHeight') \n",
    "while True:\n",
    "    driver.execute_script('window.scrollTo(0, document.body.scrollHeight)')\n",
    "    time.sleep(2)  # wait untill the page is loaded\n",
    "    current_height = driver.execute_script('return document.body.scrollHeight') \n",
    "    if previous_height == current_height:\n",
    "        break\n",
    "    previous_height = current_height"
   ]
  },
  {
   "cell_type": "code",
   "execution_count": null,
   "metadata": {},
   "outputs": [],
   "source": [
    "last_line = driver.find_element(By.XPATH,'//*[@id=\"islmp\"]/div/div/div/div[2]/div[1]/div[2]/div[1]')"
   ]
  },
  {
   "cell_type": "code",
   "execution_count": null,
   "metadata": {},
   "outputs": [],
   "source": [
    "help(last_line)"
   ]
  },
  {
   "cell_type": "code",
   "execution_count": null,
   "metadata": {},
   "outputs": [],
   "source": [
    "last_line.tag_name"
   ]
  },
  {
   "cell_type": "code",
   "execution_count": null,
   "metadata": {},
   "outputs": [],
   "source": [
    "last_line.get_attribute('data-status')"
   ]
  },
  {
   "cell_type": "code",
   "execution_count": null,
   "metadata": {},
   "outputs": [],
   "source": [
    "# Explain: self scrolling\n",
    "import time\n",
    "driver.get('https://www.google.com/')\n",
    "\n",
    "#inputting text into a box\n",
    "box = driver.find_element(By.XPATH, search_path)\n",
    "box.send_keys('apple')\n",
    "\n",
    "box.send_keys(Keys.ENTER)\n",
    "\n",
    "# click on images\n",
    "driver.find_element(By.XPATH,'//*[@id=\"hdtb-msb\"]/div[1]/div/div[3]/a').click()\n",
    "\n",
    "# self scrolling\n",
    "previous_height = driver.execute_script('return document.body.scrollHeight') \n",
    "while True:\n",
    "    driver.execute_script('window.scrollTo(0, document.body.scrollHeight)')\n",
    "    # check if it reached the end\n",
    "    last_line = driver.find_element(By.XPATH,'//*[@id=\"islmp\"]/div/div/div/div[2]/div[1]/div[2]/div[1]')\n",
    "    if last_line.get_attribute('data-status') != '3':\n",
    "        continue\n",
    "    else:\n",
    "        break\n",
    "\n"
   ]
  },
  {
   "cell_type": "code",
   "execution_count": null,
   "metadata": {},
   "outputs": [],
   "source": [
    "# Explain: waits\n",
    "# Sometimes a page may take a while to load\n",
    "\n",
    "# import libraries\n",
    "from selenium.webdriver.common.by import By\n",
    "from selenium.webdriver.support.ui import WebDriverWait\n",
    "from selenium.webdriver.support import expected_conditions as EC\n",
    "\n",
    "\n",
    "driver.get('https://www.instagram.com/')\n",
    "my_username = open('u.txt').read().strip()\n",
    "my_password = open('p.txt').read().strip()\n",
    "\n",
    "#inputting username and password and pressing ok\n",
    "username_box = driver.find_element(By.XPATH,'//*[@id=\"loginForm\"]/div/div[1]/div/label/input')\n",
    "pass_box = driver.find_element(By.XPATH,'//*[@id=\"loginForm\"]/div/div[2]/div/label/input')\n",
    "\n",
    "username_box.send_keys(my_username)\n",
    "pass_box.send_keys(my_password)\n",
    "\n",
    "pass_box.send_keys(Keys.ENTER)\n",
    "\n",
    "# press not now button\n",
    "#save_info_btn = driver.find_element(By.XPATH,'//*[@id=\"loginForm\"]/div/div[3]')\n",
    "#save_info_btn.click()\n",
    "#another_btn = driver.find_element(By.XPATH,'/html/body/div[5]/div/div/div/div[3]/button[2]')\n",
    "#another_btn.click()"
   ]
  },
  {
   "cell_type": "code",
   "execution_count": null,
   "metadata": {},
   "outputs": [],
   "source": [
    "save_info_btn = driver.find_element_by_xpath('//*[@id=\"react-root\"]/section/main/div/div/div/div/button')\n",
    "save_info_btn.click()"
   ]
  },
  {
   "cell_type": "code",
   "execution_count": null,
   "metadata": {},
   "outputs": [],
   "source": [
    "another_btn = driver.find_element_by_xpath('/html/body/div[5]/div/div/div/div[3]/button[2]')\n",
    "another_btn.click()"
   ]
  },
  {
   "cell_type": "code",
   "execution_count": null,
   "metadata": {},
   "outputs": [],
   "source": [
    "# so sometimes we need to wait\n",
    "\n",
    "# Explain: waits\n",
    "# Sometimes a page may take a while to load\n",
    "\n",
    "# import libraries\n",
    "from selenium.webdriver.common.by import By\n",
    "from selenium.webdriver.support.ui import WebDriverWait\n",
    "from selenium.webdriver.support import expected_conditions as EC\n",
    "\n",
    "driver = webdriver.Chrome('chromedriver.exe') \n",
    "driver.get('https://www.instagram.com/')\n",
    "# my_username = '********'\n",
    "# my_password = '********'\n",
    "\n",
    "#inputting username and password and pressing ok\n",
    "username_box = driver.find_element_by_xpath('//*[@id=\"loginForm\"]/div/div[1]/div/label/input')\n",
    "pass_box = driver.find_element_by_xpath('//*[@id=\"loginForm\"]/div/div[2]/div/label/input')\n",
    "\n",
    "username_box.send_keys(my_username)\n",
    "pass_box.send_keys(my_password)\n",
    "\n",
    "pass_box.send_keys(Keys.ENTER)\n",
    "\n",
    "# press not now button\n",
    "save_info_btn = WebDriverWait(driver, 10).until(\n",
    "        EC.presence_of_element_located((By.XPATH, '//*[@id=\"react-root\"]/section/main/div/div/div/div/button')))\n",
    "save_info_btn.click()\n",
    "\n",
    "another_btn = driver.find_element_by_xpath('/html/body/div[5]/div/div/div/div[3]/button[2]')\n",
    "another_btn.click()"
   ]
  },
  {
   "cell_type": "code",
   "execution_count": null,
   "metadata": {},
   "outputs": [],
   "source": [
    "# so sometimes we need to wait\n",
    "\n",
    "# Explain: waits\n",
    "# Sometimes a page may take a while to load\n",
    "\n",
    "# import libraries\n",
    "from selenium.webdriver.common.by import By\n",
    "from selenium.webdriver.support.ui import WebDriverWait\n",
    "from selenium.webdriver.support import expected_conditions as EC\n",
    "\n",
    "driver = webdriver.Chrome('chromedriver.exe') \n",
    "driver.get('https://www.instagram.com/')\n",
    "# my_username = '********'\n",
    "# my_password = '********'\n",
    "\n",
    "#inputting username and password and pressing ok\n",
    "username_box = driver.find_element_by_xpath('//*[@id=\"loginForm\"]/div/div[1]/div/label/input')\n",
    "pass_box = driver.find_element_by_xpath('//*[@id=\"loginForm\"]/div/div[2]/div/label/input')\n",
    "\n",
    "username_box.send_keys(my_username)\n",
    "pass_box.send_keys(my_password)\n",
    "\n",
    "pass_box.send_keys(Keys.ENTER)\n",
    "\n",
    "# press not now button\n",
    "save_info_btn = WebDriverWait(driver, 10).until(\n",
    "        EC.presence_of_element_located((By.XPATH, '//*[@id=\"react-root\"]/section/main/div/div/div/div/button')))\n",
    "save_info_btn.click()\n",
    "\n",
    "another_btn = WebDriverWait(driver, 10).until(\n",
    "        EC.presence_of_element_located((By.XPATH, '/html/body/div[5]/div/div/div/div[3]/button[2]')))\n",
    "another_btn.click()"
   ]
  },
  {
   "cell_type": "code",
   "execution_count": null,
   "metadata": {},
   "outputs": [],
   "source": [
    "# follow \n",
    "#driver.get('https://www.instagram.com/nature/')\n",
    "follow_btn = WebDriverWait(driver, 10).until(\n",
    "        EC.presence_of_element_located((By.XPATH, '//*[@id=\"react-root\"]/section/main/div/header/section/div[2]/div/div[2]/button')))\n",
    "follow_btn.click()"
   ]
  },
  {
   "cell_type": "code",
   "execution_count": null,
   "metadata": {},
   "outputs": [],
   "source": [
    "xpath = '//*[@id=\"react-root\"]/section/main/div/header/section/div[2]/div/div[2]/button'\n",
    "unfollow_btn = WebDriverWait(driver, 10).until(\n",
    "        EC.presence_of_element_located((By.XPATH, xpath)))\n",
    "unfollow_btn.click()"
   ]
  },
  {
   "cell_type": "code",
   "execution_count": null,
   "metadata": {},
   "outputs": [],
   "source": [
    "xpath = '/html/body/div[5]/div/div/div/div[3]/button[1]'\n",
    "unfollow_btn = WebDriverWait(driver, 10).until(\n",
    "        EC.presence_of_element_located((By.XPATH, xpath)))\n",
    "unfollow_btn.click()"
   ]
  },
  {
   "cell_type": "code",
   "execution_count": null,
   "metadata": {},
   "outputs": [],
   "source": [
    "'//*[@id=\"react-root\"]/section/main/div/div[3]/article/div[1]/div/div[1]/div[1]'\n",
    "'//*[@id=\"react-root\"]/section/main/div/div[3]/article/div[1]/div/div[1]/div[2]'\n",
    "'//*[@id=\"react-root\"]/section/main/div/div[3]/article/div[1]/div/div[1]/div[3]'\n",
    "\n",
    "'//*[@id=\"react-root\"]/section/main/div/div[3]/article/div[1]/div/div[2]/div[1]'\n",
    "'//*[@id=\"react-root\"]/section/main/div/div[3]/article/div[1]/div/div[2]/div[2]'\n",
    "'//*[@id=\"react-root\"]/section/main/div/div[3]/article/div[1]/div/div[2]/div[3]'"
   ]
  },
  {
   "cell_type": "code",
   "execution_count": null,
   "metadata": {},
   "outputs": [],
   "source": [
    "xpath = '//*[@id=\"react-root\"]/section/main/div/div[2]/article/div[1]/div/div[{}]/div[{}]'\n",
    "e = driver.find_element_by_xpath(xpath.format(1,1))\n",
    "\n",
    "#//*[@id=\"react-root\"]/section/main/div/div[2]/article/div[1]/div/div[1]/div[1]"
   ]
  },
  {
   "cell_type": "code",
   "execution_count": null,
   "metadata": {},
   "outputs": [],
   "source": [
    "e.find_element_by_tag_name('img').get_attribute('srcset').split(',')[-1]"
   ]
  },
  {
   "cell_type": "code",
   "execution_count": null,
   "metadata": {},
   "outputs": [],
   "source": [
    "import requests\n",
    "url = e.find_element_by_tag_name('img').get_attribute('srcset').split(',')[-1].split()[0]\n",
    "img = requests.get(url).content\n",
    "with open('img.jpg', 'wb') as f:\n",
    "    f.write(img)"
   ]
  },
  {
   "cell_type": "code",
   "execution_count": null,
   "metadata": {},
   "outputs": [],
   "source": [
    "e.find_element_by_tag_name('a').get_attribute('href')"
   ]
  },
  {
   "cell_type": "code",
   "execution_count": null,
   "metadata": {},
   "outputs": [],
   "source": [
    "driver.get('https://www.instagram.com/p/CdTqN39l_Av/')"
   ]
  },
  {
   "cell_type": "code",
   "execution_count": null,
   "metadata": {},
   "outputs": [],
   "source": [
    "cmnt_btn = driver.find_element_by_xpath('//*[@id=\"react-root\"]/section/main/div/div[1]/article/div/div[3]/div/div/section[1]/span[2]/button')"
   ]
  },
  {
   "cell_type": "code",
   "execution_count": null,
   "metadata": {},
   "outputs": [],
   "source": []
  },
  {
   "cell_type": "markdown",
   "metadata": {},
   "source": [
    "cmnt_btn.click()"
   ]
  },
  {
   "cell_type": "code",
   "execution_count": null,
   "metadata": {},
   "outputs": [],
   "source": [
    "# import libraries\n",
    "from selenium.webdriver.common.by import By\n",
    "from selenium.webdriver.support.ui import WebDriverWait\n",
    "from selenium.webdriver.support import expected_conditions as EC"
   ]
  },
  {
   "cell_type": "code",
   "execution_count": null,
   "metadata": {},
   "outputs": [],
   "source": [
    "from selenium import webdriver\n",
    "driver = webdriver.Chrome()\n",
    "\n",
    "# Navigate to url\n",
    "driver.get(\"http://www.google.com\")\n",
    "\n",
    "# Store 'google search' button web element\n",
    "gmailLink = driver.find_element(By.LINK_TEXT, \"Gmail\")\n",
    "\n",
    "# Performs mouse move action onto the element\n",
    "webdriver.ActionChains(driver).move_to_element(gmailLink).perform()"
   ]
  },
  {
   "cell_type": "markdown",
   "metadata": {},
   "source": [
    "[more actions](https://www.geeksforgeeks.org/action-chains-in-selenium-python/)"
   ]
  },
  {
   "cell_type": "code",
   "execution_count": null,
   "metadata": {},
   "outputs": [],
   "source": [
    "url = 'https://maktabkhooneh.org/learn/'\n",
    "\n",
    "driver = webdriver.Chrome()\n",
    "\n",
    "# Navigate to url\n",
    "driver.get(url)\n",
    "\n"
   ]
  },
  {
   "cell_type": "code",
   "execution_count": null,
   "metadata": {},
   "outputs": [],
   "source": [
    "# Store 'google search' button web element\n",
    "course_title = driver.find_element(By.CLASS_NAME, \"course-card__title\")\n",
    "\n",
    "# Performs mouse move action onto the element\n",
    "webdriver.ActionChains(driver).move_to_element(course_title).perform()"
   ]
  },
  {
   "cell_type": "code",
   "execution_count": null,
   "metadata": {},
   "outputs": [],
   "source": [
    "course_title.text"
   ]
  },
  {
   "cell_type": "code",
   "execution_count": null,
   "metadata": {},
   "outputs": [],
   "source": [
    "html = driver.page_source"
   ]
  },
  {
   "cell_type": "code",
   "execution_count": null,
   "metadata": {},
   "outputs": [],
   "source": [
    "from bs4 import BeautifulSoup\n",
    "soup = BeautifulSoup(html, 'html.parser')"
   ]
  },
  {
   "cell_type": "code",
   "execution_count": null,
   "metadata": {},
   "outputs": [],
   "source": [
    "soup.find('div', class_ = 'course-card-extra__header').text.strip()"
   ]
  },
  {
   "cell_type": "code",
   "execution_count": null,
   "metadata": {},
   "outputs": [],
   "source": []
  },
  {
   "cell_type": "code",
   "execution_count": null,
   "metadata": {},
   "outputs": [],
   "source": []
  },
  {
   "cell_type": "code",
   "execution_count": null,
   "metadata": {},
   "outputs": [],
   "source": []
  },
  {
   "cell_type": "code",
   "execution_count": null,
   "metadata": {},
   "outputs": [],
   "source": [
    "brand = driver.find_element_by_xpath('//*[@id=\"pageMain\"]/div/div/aside/div/div[1]/ul/li[2]')"
   ]
  },
  {
   "cell_type": "code",
   "execution_count": null,
   "metadata": {},
   "outputs": [],
   "source": [
    "brand.click()"
   ]
  },
  {
   "cell_type": "code",
   "execution_count": null,
   "metadata": {},
   "outputs": [],
   "source": [
    "driver.find_element_by_partial_link_text('برلیانس').click()"
   ]
  },
  {
   "cell_type": "code",
   "execution_count": null,
   "metadata": {},
   "outputs": [],
   "source": [
    "x = driver.find_elements_by_class_name('model-list')"
   ]
  },
  {
   "cell_type": "code",
   "execution_count": null,
   "metadata": {},
   "outputs": [],
   "source": [
    "options = webdriver.ChromeOptions()\n",
    "options.add_argument(\"start-maximized\")\n",
    "options.add_argument('--disable-blink-features=AutomationControlled')\n",
    "options.add_experimental_option(\"excludeSwitches\", [\"enable-automation\"])\n",
    "options.add_experimental_option('useAutomationExtension', False)\n",
    "driver = webdriver.Chrome(options=options, executable_path='chromedriver.exe')\n",
    "driver.execute_script(\"Object.defineProperty(navigator, 'webdriver', {get: () => undefined})\")\n",
    "driver.execute_cdp_cmd('Network.setUserAgentOverride', {\"userAgent\": 'Mozilla/5.0 (Windows NT 10.0; Win64; x64) '\n",
    "                                                                     'AppleWebKit/537.36 (KHTML, like Gecko) '\n",
    "                                                                     'Chrome/85.0.4183.102 Safari/537.36'})"
   ]
  },
  {
   "cell_type": "code",
   "execution_count": null,
   "metadata": {},
   "outputs": [],
   "source": [
    "\n",
    "driver.get('https://www.bama.ir')"
   ]
  },
  {
   "cell_type": "code",
   "execution_count": null,
   "metadata": {},
   "outputs": [],
   "source": [
    "driver.find_element_by_class_name('searchbox-input').send_keys('ساندرو')"
   ]
  },
  {
   "cell_type": "code",
   "execution_count": null,
   "metadata": {},
   "outputs": [],
   "source": [
    "driver.find_element_by_class_name('searchbox-input').send_keys(Keys.ENTER)"
   ]
  },
  {
   "cell_type": "code",
   "execution_count": null,
   "metadata": {},
   "outputs": [],
   "source": [
    "driver.find_element_by_xpath('//*[@id=\"suggestionads\"]/li[1]/a').click()"
   ]
  },
  {
   "cell_type": "code",
   "execution_count": null,
   "metadata": {},
   "outputs": [],
   "source": [
    "# self scrolling\n",
    "previous_height = driver.execute_script('return document.body.scrollHeight') \n",
    "count = 0\n",
    "while True:\n",
    "    driver.execute_script('window.scrollTo(0, document.body.scrollHeight)')\n",
    "    current_height = driver.execute_script('return document.body.scrollHeight') \n",
    "    time.sleep(2)\n",
    "    if previous_height == current_height:\n",
    "        count += 1\n",
    "        if count == 3:\n",
    "            break\n",
    "    else:\n",
    "        count = 0\n",
    "    previous_height = current_height"
   ]
  },
  {
   "cell_type": "code",
   "execution_count": null,
   "metadata": {},
   "outputs": [],
   "source": [
    "dic = {'a' : 1, 'b' : 0, 'c': 1}"
   ]
  },
  {
   "cell_type": "code",
   "execution_count": null,
   "metadata": {},
   "outputs": [],
   "source": [
    "dic.items()"
   ]
  },
  {
   "cell_type": "code",
   "execution_count": null,
   "metadata": {},
   "outputs": [],
   "source": [
    "sorted(dic.items(), key = lambda item: (item[1], item[0]))"
   ]
  },
  {
   "cell_type": "code",
   "execution_count": null,
   "metadata": {},
   "outputs": [],
   "source": []
  }
 ],
 "metadata": {
  "kernelspec": {
   "display_name": "Python 3 (ipykernel)",
   "language": "python",
   "name": "python3"
  },
  "language_info": {
   "codemirror_mode": {
    "name": "ipython",
    "version": 3
   },
   "file_extension": ".py",
   "mimetype": "text/x-python",
   "name": "python",
   "nbconvert_exporter": "python",
   "pygments_lexer": "ipython3",
   "version": "3.10.6"
  }
 },
 "nbformat": 4,
 "nbformat_minor": 4
}
