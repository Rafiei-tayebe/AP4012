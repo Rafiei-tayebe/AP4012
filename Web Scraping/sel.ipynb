{
 "cells": [
  {
   "cell_type": "code",
   "execution_count": 8,
   "id": "77362581",
   "metadata": {},
   "outputs": [],
   "source": [
    "email = 'rafiei.ta@gmail.com'\n",
    "password = 'Aa13371345'\n",
    "phone = '00989128519725'"
   ]
  },
  {
   "cell_type": "code",
   "execution_count": 1,
   "id": "8cd1f9f1",
   "metadata": {},
   "outputs": [],
   "source": [
    "import time\n",
    "from selenium import webdriver\n",
    "from selenium.webdriver.common.by import By\n",
    "\n",
    "# specify the path to the extension file (.crx)\n",
    "extension_path = \"Chrome-SetupVPN-3.12.16.crx\"\n",
    "\n",
    "# add the extension to Chrome options\n",
    "options = webdriver.ChromeOptions()\n",
    "options.add_extension(extension_path)\n",
    "\n",
    "# create a new Chrome session with the extension\n",
    "driver = webdriver.Chrome(options=options)\n",
    "\n",
    "\n"
   ]
  },
  {
   "cell_type": "code",
   "execution_count": 2,
   "id": "ed623fc7",
   "metadata": {},
   "outputs": [],
   "source": [
    "driver.get('https://twitter.com/i/flow/login')"
   ]
  },
  {
   "cell_type": "code",
   "execution_count": 10,
   "id": "3582b953",
   "metadata": {},
   "outputs": [
    {
     "ename": "ElementClickInterceptedException",
     "evalue": "Message: element click intercepted: Element <div dir=\"ltr\" class=\"css-901oao css-1hf3ou5 r-37j5jr r-1inkyih r-16dba41 r-135wba7 r-bcqeeo r-1pn2ns4 r-95jzfe r-13f91hp r-lrvibr r-qvutc0\" style=\"color: rgb(83, 100, 113);\">...</div> is not clickable at point (316, 345). Other element would receive the click: <input autocapitalize=\"sentences\" autocomplete=\"username\" autocorrect=\"on\" name=\"text\" spellcheck=\"true\" type=\"text\" dir=\"auto\" class=\"r-30o5oe r-1niwhzg r-17gur6a r-1yadl64 r-deolkf r-homxoj r-poiln3 r-7cikom r-1ny4l3l r-t60dpp r-1dz5y72 r-fdjqy7 r-13qz1uu\" value=\"\">\n  (Session info: chrome=112.0.5615.138)\nStacktrace:\nBacktrace:\n\tGetHandleVerifier [0x0062DCE3+50899]\n\t(No symbol) [0x005BE111]\n\t(No symbol) [0x004C5588]\n\t(No symbol) [0x004F5A7A]\n\t(No symbol) [0x004F4336]\n\t(No symbol) [0x004F267B]\n\t(No symbol) [0x004F1797]\n\t(No symbol) [0x004E94A5]\n\t(No symbol) [0x0050B8FC]\n\t(No symbol) [0x004E8EC6]\n\t(No symbol) [0x0050BC54]\n\t(No symbol) [0x0051E01C]\n\t(No symbol) [0x0050B6F6]\n\t(No symbol) [0x004E7708]\n\t(No symbol) [0x004E886D]\n\tGetHandleVerifier [0x00893EAE+2566302]\n\tGetHandleVerifier [0x008C92B1+2784417]\n\tGetHandleVerifier [0x008C327C+2759788]\n\tGetHandleVerifier [0x006C5740+672048]\n\t(No symbol) [0x005C8872]\n\t(No symbol) [0x005C41C8]\n\t(No symbol) [0x005C42AB]\n\t(No symbol) [0x005B71B7]\n\tBaseThreadInitThunk [0x75757D49+25]\n\tRtlInitializeExceptionChain [0x76FAB74B+107]\n\tRtlClearBits [0x76FAB6CF+191]\n",
     "output_type": "error",
     "traceback": [
      "\u001b[1;31m---------------------------------------------------------------------------\u001b[0m",
      "\u001b[1;31mElementClickInterceptedException\u001b[0m          Traceback (most recent call last)",
      "Input \u001b[1;32mIn [10]\u001b[0m, in \u001b[0;36m<cell line: 5>\u001b[1;34m()\u001b[0m\n\u001b[0;32m      3\u001b[0m email_xpath \u001b[38;5;241m=\u001b[39m \u001b[38;5;124m'\u001b[39m\u001b[38;5;124m//*[@id=\u001b[39m\u001b[38;5;124m\"\u001b[39m\u001b[38;5;124mlayers\u001b[39m\u001b[38;5;124m\"\u001b[39m\u001b[38;5;124m]/div/div/div/div/div/div/div[2]/div[2]/div/div/div[2]/div[2]/div/div/div/div[5]/label/div/div[1]/div\u001b[39m\u001b[38;5;124m'\u001b[39m\n\u001b[0;32m      4\u001b[0m email_input \u001b[38;5;241m=\u001b[39m driver\u001b[38;5;241m.\u001b[39mfind_element(By\u001b[38;5;241m.\u001b[39mXPATH,email_xpath )\n\u001b[1;32m----> 5\u001b[0m \u001b[43memail_input\u001b[49m\u001b[38;5;241;43m.\u001b[39;49m\u001b[43mclick\u001b[49m\u001b[43m(\u001b[49m\u001b[43m)\u001b[49m\n\u001b[0;32m      6\u001b[0m email_input\u001b[38;5;241m.\u001b[39msend_keys(email)\n",
      "File \u001b[1;32m~\\AppData\\Roaming\\Python\\Python310\\site-packages\\selenium\\webdriver\\remote\\webelement.py:93\u001b[0m, in \u001b[0;36mWebElement.click\u001b[1;34m(self)\u001b[0m\n\u001b[0;32m     91\u001b[0m \u001b[38;5;28;01mdef\u001b[39;00m \u001b[38;5;21mclick\u001b[39m(\u001b[38;5;28mself\u001b[39m) \u001b[38;5;241m-\u001b[39m\u001b[38;5;241m>\u001b[39m \u001b[38;5;28;01mNone\u001b[39;00m:\n\u001b[0;32m     92\u001b[0m     \u001b[38;5;124;03m\"\"\"Clicks the element.\"\"\"\u001b[39;00m\n\u001b[1;32m---> 93\u001b[0m     \u001b[38;5;28;43mself\u001b[39;49m\u001b[38;5;241;43m.\u001b[39;49m\u001b[43m_execute\u001b[49m\u001b[43m(\u001b[49m\u001b[43mCommand\u001b[49m\u001b[38;5;241;43m.\u001b[39;49m\u001b[43mCLICK_ELEMENT\u001b[49m\u001b[43m)\u001b[49m\n",
      "File \u001b[1;32m~\\AppData\\Roaming\\Python\\Python310\\site-packages\\selenium\\webdriver\\remote\\webelement.py:410\u001b[0m, in \u001b[0;36mWebElement._execute\u001b[1;34m(self, command, params)\u001b[0m\n\u001b[0;32m    408\u001b[0m     params \u001b[38;5;241m=\u001b[39m {}\n\u001b[0;32m    409\u001b[0m params[\u001b[38;5;124m\"\u001b[39m\u001b[38;5;124mid\u001b[39m\u001b[38;5;124m\"\u001b[39m] \u001b[38;5;241m=\u001b[39m \u001b[38;5;28mself\u001b[39m\u001b[38;5;241m.\u001b[39m_id\n\u001b[1;32m--> 410\u001b[0m \u001b[38;5;28;01mreturn\u001b[39;00m \u001b[38;5;28;43mself\u001b[39;49m\u001b[38;5;241;43m.\u001b[39;49m\u001b[43m_parent\u001b[49m\u001b[38;5;241;43m.\u001b[39;49m\u001b[43mexecute\u001b[49m\u001b[43m(\u001b[49m\u001b[43mcommand\u001b[49m\u001b[43m,\u001b[49m\u001b[43m \u001b[49m\u001b[43mparams\u001b[49m\u001b[43m)\u001b[49m\n",
      "File \u001b[1;32m~\\AppData\\Roaming\\Python\\Python310\\site-packages\\selenium\\webdriver\\remote\\webdriver.py:444\u001b[0m, in \u001b[0;36mWebDriver.execute\u001b[1;34m(self, driver_command, params)\u001b[0m\n\u001b[0;32m    442\u001b[0m response \u001b[38;5;241m=\u001b[39m \u001b[38;5;28mself\u001b[39m\u001b[38;5;241m.\u001b[39mcommand_executor\u001b[38;5;241m.\u001b[39mexecute(driver_command, params)\n\u001b[0;32m    443\u001b[0m \u001b[38;5;28;01mif\u001b[39;00m response:\n\u001b[1;32m--> 444\u001b[0m     \u001b[38;5;28;43mself\u001b[39;49m\u001b[38;5;241;43m.\u001b[39;49m\u001b[43merror_handler\u001b[49m\u001b[38;5;241;43m.\u001b[39;49m\u001b[43mcheck_response\u001b[49m\u001b[43m(\u001b[49m\u001b[43mresponse\u001b[49m\u001b[43m)\u001b[49m\n\u001b[0;32m    445\u001b[0m     response[\u001b[38;5;124m\"\u001b[39m\u001b[38;5;124mvalue\u001b[39m\u001b[38;5;124m\"\u001b[39m] \u001b[38;5;241m=\u001b[39m \u001b[38;5;28mself\u001b[39m\u001b[38;5;241m.\u001b[39m_unwrap_value(response\u001b[38;5;241m.\u001b[39mget(\u001b[38;5;124m\"\u001b[39m\u001b[38;5;124mvalue\u001b[39m\u001b[38;5;124m\"\u001b[39m, \u001b[38;5;28;01mNone\u001b[39;00m))\n\u001b[0;32m    446\u001b[0m     \u001b[38;5;28;01mreturn\u001b[39;00m response\n",
      "File \u001b[1;32m~\\AppData\\Roaming\\Python\\Python310\\site-packages\\selenium\\webdriver\\remote\\errorhandler.py:249\u001b[0m, in \u001b[0;36mErrorHandler.check_response\u001b[1;34m(self, response)\u001b[0m\n\u001b[0;32m    247\u001b[0m         alert_text \u001b[38;5;241m=\u001b[39m value[\u001b[38;5;124m\"\u001b[39m\u001b[38;5;124malert\u001b[39m\u001b[38;5;124m\"\u001b[39m]\u001b[38;5;241m.\u001b[39mget(\u001b[38;5;124m\"\u001b[39m\u001b[38;5;124mtext\u001b[39m\u001b[38;5;124m\"\u001b[39m)\n\u001b[0;32m    248\u001b[0m     \u001b[38;5;28;01mraise\u001b[39;00m exception_class(message, screen, stacktrace, alert_text)  \u001b[38;5;66;03m# type: ignore[call-arg]  # mypy is not smart enough here\u001b[39;00m\n\u001b[1;32m--> 249\u001b[0m \u001b[38;5;28;01mraise\u001b[39;00m exception_class(message, screen, stacktrace)\n",
      "\u001b[1;31mElementClickInterceptedException\u001b[0m: Message: element click intercepted: Element <div dir=\"ltr\" class=\"css-901oao css-1hf3ou5 r-37j5jr r-1inkyih r-16dba41 r-135wba7 r-bcqeeo r-1pn2ns4 r-95jzfe r-13f91hp r-lrvibr r-qvutc0\" style=\"color: rgb(83, 100, 113);\">...</div> is not clickable at point (316, 345). Other element would receive the click: <input autocapitalize=\"sentences\" autocomplete=\"username\" autocorrect=\"on\" name=\"text\" spellcheck=\"true\" type=\"text\" dir=\"auto\" class=\"r-30o5oe r-1niwhzg r-17gur6a r-1yadl64 r-deolkf r-homxoj r-poiln3 r-7cikom r-1ny4l3l r-t60dpp r-1dz5y72 r-fdjqy7 r-13qz1uu\" value=\"\">\n  (Session info: chrome=112.0.5615.138)\nStacktrace:\nBacktrace:\n\tGetHandleVerifier [0x0062DCE3+50899]\n\t(No symbol) [0x005BE111]\n\t(No symbol) [0x004C5588]\n\t(No symbol) [0x004F5A7A]\n\t(No symbol) [0x004F4336]\n\t(No symbol) [0x004F267B]\n\t(No symbol) [0x004F1797]\n\t(No symbol) [0x004E94A5]\n\t(No symbol) [0x0050B8FC]\n\t(No symbol) [0x004E8EC6]\n\t(No symbol) [0x0050BC54]\n\t(No symbol) [0x0051E01C]\n\t(No symbol) [0x0050B6F6]\n\t(No symbol) [0x004E7708]\n\t(No symbol) [0x004E886D]\n\tGetHandleVerifier [0x00893EAE+2566302]\n\tGetHandleVerifier [0x008C92B1+2784417]\n\tGetHandleVerifier [0x008C327C+2759788]\n\tGetHandleVerifier [0x006C5740+672048]\n\t(No symbol) [0x005C8872]\n\t(No symbol) [0x005C41C8]\n\t(No symbol) [0x005C42AB]\n\t(No symbol) [0x005B71B7]\n\tBaseThreadInitThunk [0x75757D49+25]\n\tRtlInitializeExceptionChain [0x76FAB74B+107]\n\tRtlClearBits [0x76FAB6CF+191]\n"
     ]
    }
   ],
   "source": [
    "# find the email/phone input field using XPath\n",
    "\n",
    "email_xpath = '//*[@id=\"layers\"]/div/div/div/div/div/div/div[2]/div[2]/div/div/div[2]/div[2]/div/div/div/div[5]/label/div/div[1]/div'\n",
    "email_input = driver.find_element(By.XPATH,email_xpath )\n",
    "email_input.click()\n",
    "email_input.send_keys(email)"
   ]
  },
  {
   "cell_type": "code",
   "execution_count": null,
   "id": "bf25ee33",
   "metadata": {},
   "outputs": [],
   "source": [
    "from selenium.webdriver.common.keys import Keys\n",
    "email_input.send_keys(Keys.RETURN)"
   ]
  },
  {
   "cell_type": "code",
   "execution_count": null,
   "id": "f240ac85",
   "metadata": {},
   "outputs": [],
   "source": [
    "phone_xpath = '//*[@id=\"layers\"]/div/div/div/div/div/div/div[2]/div[2]/div/div/div[2]/div[2]/div[1]/div/div[2]/label/div/div[2]/div/input'\n",
    "phone_input = driver.find_element(By.XPATH,phone_xpath )\n",
    "phone_input.send_keys(phone)\n",
    "phone_input.send_keys(Keys.RETURN)"
   ]
  },
  {
   "cell_type": "code",
   "execution_count": null,
   "id": "33b92676",
   "metadata": {},
   "outputs": [],
   "source": [
    "pass_xpath = '//*[@id=\"layers\"]/div/div/div/div/div/div/div[2]/div[2]/div/div/div[2]/div[2]/div[1]/div/div/div[3]/div/label/div/div[2]/div[1]/input'\n",
    "pass_input = driver.find_element(By.XPATH,pass_xpath )\n",
    "pass_input.send_keys(password)\n",
    "pass_input.send_keys(Keys.RETURN)\n"
   ]
  },
  {
   "cell_type": "code",
   "execution_count": null,
   "id": "4831b715",
   "metadata": {},
   "outputs": [],
   "source": [
    "driver.get('https://twitter.com/neiltyson')"
   ]
  },
  {
   "cell_type": "code",
   "execution_count": null,
   "id": "60ef1d2a",
   "metadata": {},
   "outputs": [],
   "source": [
    "xpath = {\n",
    "    'name': '//*[@id=\"react-root\"]/div/div/div[2]/main/div/div/div/div/div/div[1]/div[1]/div/div/div/div/div/div[2]/div/h2/div/div/div/div/span[1]/span/span[1]',\n",
    "    'ntweets' : '//*[@id=\"react-root\"]/div/div/div[2]/main/div/div/div/div[1]/div/div[1]/div[1]/div/div/div/div/div/div[2]/div/div',\n",
    "    'username': '//*[@id=\"react-root\"]/div/div/div[2]/main/div/div/div/div/div/div[3]/div/div/div/div/div[2]/div[1]/div/div[2]/div/div/div/span',\n",
    "    'bio': '//*[@id=\"react-root\"]/div/div/div[2]/main/div/div/div/div/div/div[3]/div/div/div/div/div[3]/div/div/span',\n",
    "    'city': '//*[@id=\"react-root\"]/div/div/div[2]/main/div/div/div/div/div/div[3]/div/div/div/div/div[4]/div/span[1]/span/span',\n",
    "    'joined': '//*[@id=\"react-root\"]/div/div/div[2]/main/div/div/div/div/div/div[3]/div/div/div/div/div[4]/div/span[2]/span',\n",
    "    'following': '//*[@id=\"react-root\"]/div/div/div[2]/main/div/div/div/div/div/div[3]/div/div/div/div/div[5]/div[1]/a/span[1]/span',\n",
    "    'follower':'//*[@id=\"react-root\"]/div/div/div[2]/main/div/div/div/div/div/div[3]/div/div/div/div/div[5]/div[2]/a/span[1]/span',\n",
    "    \n",
    "}\n"
   ]
  },
  {
   "cell_type": "code",
   "execution_count": null,
   "id": "2a8ec430",
   "metadata": {},
   "outputs": [],
   "source": [
    "for k in xpath:\n",
    "    print(driver.find_element(By.XPATH, xpath[k]).text)"
   ]
  },
  {
   "cell_type": "code",
   "execution_count": null,
   "id": "34d598b1",
   "metadata": {},
   "outputs": [],
   "source": [
    "following_link = '//*[@id=\"react-root\"]/div/div/div[2]/main/div/div/div/div/div/div[3]/div/div/div/div/div[5]/div[1]/a'"
   ]
  },
  {
   "cell_type": "code",
   "execution_count": null,
   "id": "8339020d",
   "metadata": {},
   "outputs": [],
   "source": [
    "driver.find_element(By.XPATH, following_link).click()"
   ]
  },
  {
   "cell_type": "code",
   "execution_count": null,
   "id": "a3ff570a",
   "metadata": {},
   "outputs": [],
   "source": [
    "\n",
    "follower = '//*[@id=\"react-root\"]/div/div/div[2]/main/div/div/div/div[1]/div/section/div/div/div[{i}]/div/div/div/div/div[2]/div[1]/div[1]/div/div[2]/div/a/div/div/span'\n",
    "#           //*[@id=\"react-root\"]/div/div/div[2]/main/div/div/div/div[1]/div/section/div/div/div[2]/div/div/div/div/div[2]/div[1]/div[1]/div/div[2]/div/a/div/div/span\n",
    "#           //*[@id=\"react-root\"]/div/div/div[2]/main/div/div/div/div[1]/div/section/div/div/div[11]/div/div/div/div/div[2]/div[1]/div[1]/div/div[2]/div/a/div/div/span"
   ]
  },
  {
   "cell_type": "code",
   "execution_count": null,
   "id": "3c7a492b",
   "metadata": {},
   "outputs": [],
   "source": [
    "driver.find_element(By.XPATH, follower.format(i=11)).text"
   ]
  },
  {
   "cell_type": "code",
   "execution_count": null,
   "id": "cfd12b71",
   "metadata": {},
   "outputs": [],
   "source": [
    "for x in driver.find_elements(\n",
    "    By.XPATH,'//*[@id=\"react-root\"]/div/div/div[2]/main/div/div/div/div[1]/div/section/div/div'):\n",
    "    x = x.text"
   ]
  },
  {
   "cell_type": "code",
   "execution_count": null,
   "id": "233b1509",
   "metadata": {},
   "outputs": [],
   "source": [
    "npos = 0\n",
    "atpos = 0\n",
    "while atpos != -1:\n",
    "    atpos = x.find('@', npos)\n",
    "    npos  = min(x.find('\\n', atpos), x.find('@', atpos+1))\n",
    "    print(x[atpos:npos])"
   ]
  },
  {
   "cell_type": "code",
   "execution_count": null,
   "id": "9d18c466",
   "metadata": {},
   "outputs": [],
   "source": []
  }
 ],
 "metadata": {
  "kernelspec": {
   "display_name": "Python 3 (ipykernel)",
   "language": "python",
   "name": "python3"
  },
  "language_info": {
   "codemirror_mode": {
    "name": "ipython",
    "version": 3
   },
   "file_extension": ".py",
   "mimetype": "text/x-python",
   "name": "python",
   "nbconvert_exporter": "python",
   "pygments_lexer": "ipython3",
   "version": "3.10.6"
  }
 },
 "nbformat": 4,
 "nbformat_minor": 5
}
